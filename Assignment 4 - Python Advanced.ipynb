{
 "cells": [
  {
   "cell_type": "markdown",
   "metadata": {},
   "source": [
    "# Assignment 4 Questions"
   ]
  },
  {
   "cell_type": "markdown",
   "metadata": {},
   "source": [
    "## Problem Statement"
   ]
  },
  {
   "cell_type": "markdown",
   "metadata": {},
   "source": [
    "Q.1 Given a sequence of n values x1, x2, ..., xn and a window size k>0, the k-th moving average of\n",
    "the given sequence is defined as follows:\n",
    "\n",
    "The moving average sequence has n-k+1 elements as shown below.\n",
    "The moving averages with k=4 of a ten-value sequence (n=10) is shown below\n",
    "\n",
    "    i 1 2 3 4 5 6 7 8 9 10\n",
    "    ===== == == == == == == == == == ==\n",
    "    Input 10 20 30 40 50 60 70 80 90 100\n",
    "    y1 25 = (10+20+30+40)/4\n",
    "    y2 35 = (20+30+40+50)/4\n",
    "    y3 45 = (30+40+50+60)/4\n",
    "    y4 55 = (40+50+60+70)/4\n",
    "    y5 65 = (50+60+70+80)/4\n",
    "    y6 75 = (60+70+80+90)/4\n",
    "    y7 85 = (70+80+90+100)/4\n",
    "\n",
    "Thus, the moving average sequence has n-k+1=10-4+1=7 values.\n",
    "\n",
    "Write a function to find moving average in an array over a window:\n",
    "\n",
    "Test it over [3, 5, 7, 2, 8, 10, 11, 65, 72, 81, 99, 100, 150] and window of 3."
   ]
  },
  {
   "cell_type": "code",
   "execution_count": 42,
   "metadata": {},
   "outputs": [
    {
     "name": "stdout",
     "output_type": "stream",
     "text": [
      "y1 : 5.00\n",
      "y2 : 4.67\n",
      "y3 : 5.67\n",
      "y4 : 6.67\n",
      "y5 : 9.67\n",
      "y6 : 28.67\n",
      "y7 : 49.33\n",
      "y8 : 72.67\n",
      "y9 : 84.00\n",
      "y10 : 93.33\n",
      "y11 : 116.33\n"
     ]
    }
   ],
   "source": [
    "import numpy as np\n",
    "a=np.array([3, 5, 7, 2, 8, 10, 11, 65, 72, 81, 99, 100, 150])\n",
    "n= a.size\n",
    "k=3\n",
    "#y is an empty array later to store moving average \n",
    "y=np.empty(n-k+1)\n",
    "x=0\n",
    "#k is counter pointing element location\n",
    "for i in range(n-k+1):\n",
    "    for j in range(k):\n",
    "        y[x]=(a[x]+a[x+1]+a[x+2])/k\n",
    "    x=x+1\n",
    "for i in range(len(y)):\n",
    "    print('y%d : %.2f' %  (i+1,y[i]) )"
   ]
  },
  {
   "cell_type": "markdown",
   "metadata": {},
   "source": [
    "Q.2 How-to-count-distance-to-the-previous-zero\n",
    "For each value, count the difference back to the previous zero (or the start of the Series,\n",
    "whichever is closer)\n",
    "create a new column 'Y'\n",
    "Consider a DataFrame df where there is an integer column 'X'\n",
    "    \n",
    "    import pandas as pd\n",
    "    df = pd.DataFrame({'X': [7, 2, 0, 3, 4, 2, 5, 0, 3, 4]})"
   ]
  },
  {
   "cell_type": "code",
   "execution_count": 44,
   "metadata": {},
   "outputs": [
    {
     "data": {
      "text/plain": [
       "0    1.0\n",
       "1    2.0\n",
       "2    0.0\n",
       "3    1.0\n",
       "4    2.0\n",
       "5    3.0\n",
       "6    4.0\n",
       "7    0.0\n",
       "8    1.0\n",
       "9    2.0\n",
       "dtype: float64"
      ]
     },
     "execution_count": 44,
     "metadata": {},
     "output_type": "execute_result"
    }
   ],
   "source": [
    "import numpy as np\n",
    "import pandas as pd\n",
    "s = pd.Series([7,2,0,3,4,2,5,0,3,4])\n",
    "x = (s != 0).cumsum()\n",
    "y = x != x.shift()\n",
    "y.groupby((y != y.shift()).cumsum()).cumsum()\n"
   ]
  },
  {
   "cell_type": "markdown",
   "metadata": {},
   "source": [
    "Q.3 Create a DatetimeIndex that contains each business day of 2015 and use it to index a Series of\n",
    "random numbers."
   ]
  },
  {
   "cell_type": "code",
   "execution_count": 54,
   "metadata": {},
   "outputs": [
    {
     "name": "stdout",
     "output_type": "stream",
     "text": [
      "                   0\n",
      "2015-01-01  1.222492\n",
      "2015-01-02  0.308010\n",
      "2015-01-05  0.764816\n",
      "2015-01-06 -0.140509\n",
      "2015-01-07 -0.511916\n",
      "                   0\n",
      "2015-12-25 -0.160428\n",
      "2015-12-28 -0.983399\n",
      "2015-12-29  0.451432\n",
      "2015-12-30  0.345932\n",
      "2015-12-31 -0.148964\n"
     ]
    }
   ],
   "source": [
    "import pandas as pd\n",
    "import numpy as np\n",
    "dates = pd.date_range('1/1/2015', periods=261, freq='B')\n",
    "df = pd.DataFrame(np.random.randn(261,1), index=dates)\n",
    "print(df.head())\n",
    "print(df.tail())"
   ]
  },
  {
   "cell_type": "markdown",
   "metadata": {},
   "source": [
    "Q.4 "
   ]
  }
 ],
 "metadata": {
  "kernelspec": {
   "display_name": "Python 3",
   "language": "python",
   "name": "python3"
  },
  "language_info": {
   "codemirror_mode": {
    "name": "ipython",
    "version": 3
   },
   "file_extension": ".py",
   "mimetype": "text/x-python",
   "name": "python",
   "nbconvert_exporter": "python",
   "pygments_lexer": "ipython3",
   "version": "3.7.6"
  }
 },
 "nbformat": 4,
 "nbformat_minor": 2
}
